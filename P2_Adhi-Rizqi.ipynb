{
 "cells": [
  {
   "cell_type": "markdown",
   "metadata": {},
   "source": [
    "# 1. Perkenalan"
   ]
  },
  {
   "cell_type": "markdown",
   "metadata": {},
   "source": [
    "=================================================\n",
    "\n",
    "Project 2\n",
    "\n",
    "Nama  : Adhi Rizqi Alfaqih\n",
    "\n",
    "\n",
    "\n",
    "================================================="
   ]
  },
  {
   "cell_type": "markdown",
   "metadata": {},
   "source": [
    "# 2. Data Loading"
   ]
  },
  {
   "cell_type": "code",
   "execution_count": 128,
   "metadata": {},
   "outputs": [
    {
     "name": "stdout",
     "output_type": "stream",
     "text": [
      "Requirement already satisfied: pandas in c:\\users\\user\\anaconda3\\lib\\site-packages (2.2.2)\n",
      "Requirement already satisfied: numpy>=1.26.0 in c:\\users\\user\\anaconda3\\lib\\site-packages (from pandas) (1.26.4)\n",
      "Requirement already satisfied: python-dateutil>=2.8.2 in c:\\users\\user\\anaconda3\\lib\\site-packages (from pandas) (2.9.0.post0)\n",
      "Requirement already satisfied: pytz>=2020.1 in c:\\users\\user\\anaconda3\\lib\\site-packages (from pandas) (2024.1)\n",
      "Requirement already satisfied: tzdata>=2022.7 in c:\\users\\user\\anaconda3\\lib\\site-packages (from pandas) (2023.3)\n",
      "Requirement already satisfied: six>=1.5 in c:\\users\\user\\anaconda3\\lib\\site-packages (from python-dateutil>=2.8.2->pandas) (1.16.0)\n"
     ]
    }
   ],
   "source": [
    "!pip install pandas\n",
    "import numpy as np\n",
    "# scipy.stats berfungsi untuk menyediakan alat untuk analisis statistik\n",
    "import scipy.stats as stats\n",
    "# untuk menjalankan fungsi pearsonr sebagai bentuk korelasi.\n",
    "from scipy.stats import pearsonr\n",
    "import pandas as pd"
   ]
  },
  {
   "cell_type": "code",
   "execution_count": 130,
   "metadata": {},
   "outputs": [],
   "source": [
    "import matplotlib.pyplot as plt\n",
    "import seaborn as sns"
   ]
  },
  {
   "cell_type": "code",
   "execution_count": 131,
   "metadata": {},
   "outputs": [],
   "source": [
    "import statsmodels.api as sm\n",
    "from sklearn.model_selection import train_test_split"
   ]
  },
  {
   "cell_type": "code",
   "execution_count": 132,
   "metadata": {},
   "outputs": [],
   "source": [
    "from sklearn.linear_model import LinearRegression"
   ]
  },
  {
   "cell_type": "code",
   "execution_count": 133,
   "metadata": {},
   "outputs": [],
   "source": [
    "from sklearn.metrics import mean_absolute_error, r2_score"
   ]
  },
  {
   "cell_type": "code",
   "execution_count": 134,
   "metadata": {},
   "outputs": [],
   "source": [
    "df = pd.read_csv(\"car_prices.csv\")"
   ]
  },
  {
   "cell_type": "code",
   "execution_count": 135,
   "metadata": {},
   "outputs": [
    {
     "data": {
      "text/html": [
       "<div>\n",
       "<style scoped>\n",
       "    .dataframe tbody tr th:only-of-type {\n",
       "        vertical-align: middle;\n",
       "    }\n",
       "\n",
       "    .dataframe tbody tr th {\n",
       "        vertical-align: top;\n",
       "    }\n",
       "\n",
       "    .dataframe thead th {\n",
       "        text-align: right;\n",
       "    }\n",
       "</style>\n",
       "<table border=\"1\" class=\"dataframe\">\n",
       "  <thead>\n",
       "    <tr style=\"text-align: right;\">\n",
       "      <th></th>\n",
       "      <th>year</th>\n",
       "      <th>make</th>\n",
       "      <th>model</th>\n",
       "      <th>trim</th>\n",
       "      <th>body</th>\n",
       "      <th>transmission</th>\n",
       "      <th>vin</th>\n",
       "      <th>state</th>\n",
       "      <th>condition</th>\n",
       "      <th>odometer</th>\n",
       "      <th>color</th>\n",
       "      <th>interior</th>\n",
       "      <th>seller</th>\n",
       "      <th>mmr</th>\n",
       "      <th>sellingprice</th>\n",
       "      <th>saledate</th>\n",
       "    </tr>\n",
       "  </thead>\n",
       "  <tbody>\n",
       "    <tr>\n",
       "      <th>0</th>\n",
       "      <td>2015</td>\n",
       "      <td>Kia</td>\n",
       "      <td>Sorento</td>\n",
       "      <td>LX</td>\n",
       "      <td>SUV</td>\n",
       "      <td>automatic</td>\n",
       "      <td>5xyktca69fg566472</td>\n",
       "      <td>ca</td>\n",
       "      <td>5.0</td>\n",
       "      <td>16639.0</td>\n",
       "      <td>white</td>\n",
       "      <td>black</td>\n",
       "      <td>kia motors america  inc</td>\n",
       "      <td>20500.0</td>\n",
       "      <td>21500.0</td>\n",
       "      <td>Tue Dec 16 2014 12:30:00 GMT-0800 (PST)</td>\n",
       "    </tr>\n",
       "    <tr>\n",
       "      <th>1</th>\n",
       "      <td>2015</td>\n",
       "      <td>Kia</td>\n",
       "      <td>Sorento</td>\n",
       "      <td>LX</td>\n",
       "      <td>SUV</td>\n",
       "      <td>automatic</td>\n",
       "      <td>5xyktca69fg561319</td>\n",
       "      <td>ca</td>\n",
       "      <td>5.0</td>\n",
       "      <td>9393.0</td>\n",
       "      <td>white</td>\n",
       "      <td>beige</td>\n",
       "      <td>kia motors america  inc</td>\n",
       "      <td>20800.0</td>\n",
       "      <td>21500.0</td>\n",
       "      <td>Tue Dec 16 2014 12:30:00 GMT-0800 (PST)</td>\n",
       "    </tr>\n",
       "    <tr>\n",
       "      <th>2</th>\n",
       "      <td>2014</td>\n",
       "      <td>BMW</td>\n",
       "      <td>3 Series</td>\n",
       "      <td>328i SULEV</td>\n",
       "      <td>Sedan</td>\n",
       "      <td>automatic</td>\n",
       "      <td>wba3c1c51ek116351</td>\n",
       "      <td>ca</td>\n",
       "      <td>45.0</td>\n",
       "      <td>1331.0</td>\n",
       "      <td>gray</td>\n",
       "      <td>black</td>\n",
       "      <td>financial services remarketing (lease)</td>\n",
       "      <td>31900.0</td>\n",
       "      <td>30000.0</td>\n",
       "      <td>Thu Jan 15 2015 04:30:00 GMT-0800 (PST)</td>\n",
       "    </tr>\n",
       "    <tr>\n",
       "      <th>3</th>\n",
       "      <td>2015</td>\n",
       "      <td>Volvo</td>\n",
       "      <td>S60</td>\n",
       "      <td>T5</td>\n",
       "      <td>Sedan</td>\n",
       "      <td>automatic</td>\n",
       "      <td>yv1612tb4f1310987</td>\n",
       "      <td>ca</td>\n",
       "      <td>41.0</td>\n",
       "      <td>14282.0</td>\n",
       "      <td>white</td>\n",
       "      <td>black</td>\n",
       "      <td>volvo na rep/world omni</td>\n",
       "      <td>27500.0</td>\n",
       "      <td>27750.0</td>\n",
       "      <td>Thu Jan 29 2015 04:30:00 GMT-0800 (PST)</td>\n",
       "    </tr>\n",
       "    <tr>\n",
       "      <th>4</th>\n",
       "      <td>2014</td>\n",
       "      <td>BMW</td>\n",
       "      <td>6 Series Gran Coupe</td>\n",
       "      <td>650i</td>\n",
       "      <td>Sedan</td>\n",
       "      <td>automatic</td>\n",
       "      <td>wba6b2c57ed129731</td>\n",
       "      <td>ca</td>\n",
       "      <td>43.0</td>\n",
       "      <td>2641.0</td>\n",
       "      <td>gray</td>\n",
       "      <td>black</td>\n",
       "      <td>financial services remarketing (lease)</td>\n",
       "      <td>66000.0</td>\n",
       "      <td>67000.0</td>\n",
       "      <td>Thu Dec 18 2014 12:30:00 GMT-0800 (PST)</td>\n",
       "    </tr>\n",
       "  </tbody>\n",
       "</table>\n",
       "</div>"
      ],
      "text/plain": [
       "   year   make                model        trim   body transmission  \\\n",
       "0  2015    Kia              Sorento          LX    SUV    automatic   \n",
       "1  2015    Kia              Sorento          LX    SUV    automatic   \n",
       "2  2014    BMW             3 Series  328i SULEV  Sedan    automatic   \n",
       "3  2015  Volvo                  S60          T5  Sedan    automatic   \n",
       "4  2014    BMW  6 Series Gran Coupe        650i  Sedan    automatic   \n",
       "\n",
       "                 vin state  condition  odometer  color interior  \\\n",
       "0  5xyktca69fg566472    ca        5.0   16639.0  white    black   \n",
       "1  5xyktca69fg561319    ca        5.0    9393.0  white    beige   \n",
       "2  wba3c1c51ek116351    ca       45.0    1331.0   gray    black   \n",
       "3  yv1612tb4f1310987    ca       41.0   14282.0  white    black   \n",
       "4  wba6b2c57ed129731    ca       43.0    2641.0   gray    black   \n",
       "\n",
       "                                   seller      mmr  sellingprice  \\\n",
       "0                 kia motors america  inc  20500.0       21500.0   \n",
       "1                 kia motors america  inc  20800.0       21500.0   \n",
       "2  financial services remarketing (lease)  31900.0       30000.0   \n",
       "3                 volvo na rep/world omni  27500.0       27750.0   \n",
       "4  financial services remarketing (lease)  66000.0       67000.0   \n",
       "\n",
       "                                  saledate  \n",
       "0  Tue Dec 16 2014 12:30:00 GMT-0800 (PST)  \n",
       "1  Tue Dec 16 2014 12:30:00 GMT-0800 (PST)  \n",
       "2  Thu Jan 15 2015 04:30:00 GMT-0800 (PST)  \n",
       "3  Thu Jan 29 2015 04:30:00 GMT-0800 (PST)  \n",
       "4  Thu Dec 18 2014 12:30:00 GMT-0800 (PST)  "
      ]
     },
     "execution_count": 135,
     "metadata": {},
     "output_type": "execute_result"
    }
   ],
   "source": [
    "df.head()"
   ]
  },
  {
   "cell_type": "code",
   "execution_count": 136,
   "metadata": {},
   "outputs": [
    {
     "name": "stdout",
     "output_type": "stream",
     "text": [
      "Jumlah baris dan kolom: (558837, 16)\n"
     ]
    }
   ],
   "source": [
    "# untuk mengetahui Jumlah Baris dan Kolom\n",
    "print(\"Jumlah baris dan kolom:\", df.shape)"
   ]
  },
  {
   "cell_type": "code",
   "execution_count": 137,
   "metadata": {},
   "outputs": [
    {
     "data": {
      "text/plain": [
       "transmission    65352\n",
       "body            13195\n",
       "condition       11820\n",
       "trim            10651\n",
       "model           10399\n",
       "make            10301\n",
       "color             749\n",
       "interior          749\n",
       "odometer           94\n",
       "mmr                38\n",
       "sellingprice       12\n",
       "saledate           12\n",
       "vin                 4\n",
       "year                0\n",
       "state               0\n",
       "seller              0\n",
       "dtype: int64"
      ]
     },
     "execution_count": 137,
     "metadata": {},
     "output_type": "execute_result"
    }
   ],
   "source": [
    "# untuk mengecek berapa banyak 'missing values' di tiap kolom\n",
    "\n",
    "df.isna().sum().sort_values(ascending=False)"
   ]
  },
  {
   "cell_type": "code",
   "execution_count": 138,
   "metadata": {},
   "outputs": [
    {
     "data": {
      "text/plain": [
       "year             0.000000\n",
       "make             1.843292\n",
       "model            1.860829\n",
       "trim             1.905922\n",
       "body             2.361154\n",
       "transmission    11.694287\n",
       "vin              0.000716\n",
       "state            0.000000\n",
       "condition        2.115107\n",
       "odometer         0.016821\n",
       "color            0.134028\n",
       "interior         0.134028\n",
       "seller           0.000000\n",
       "mmr              0.006800\n",
       "sellingprice     0.002147\n",
       "saledate         0.002147\n",
       "dtype: float64"
      ]
     },
     "execution_count": 138,
     "metadata": {},
     "output_type": "execute_result"
    }
   ],
   "source": [
    "missing_percentage = (df.isnull().sum() / len(df)) * 100\n",
    "missing_percentage"
   ]
  },
  {
   "cell_type": "code",
   "execution_count": 139,
   "metadata": {},
   "outputs": [
    {
     "name": "stdout",
     "output_type": "stream",
     "text": [
      "<class 'pandas.core.frame.DataFrame'>\n",
      "RangeIndex: 558837 entries, 0 to 558836\n",
      "Data columns (total 16 columns):\n",
      " #   Column        Non-Null Count   Dtype  \n",
      "---  ------        --------------   -----  \n",
      " 0   year          558837 non-null  int64  \n",
      " 1   make          548536 non-null  object \n",
      " 2   model         548438 non-null  object \n",
      " 3   trim          548186 non-null  object \n",
      " 4   body          545642 non-null  object \n",
      " 5   transmission  493485 non-null  object \n",
      " 6   vin           558833 non-null  object \n",
      " 7   state         558837 non-null  object \n",
      " 8   condition     547017 non-null  float64\n",
      " 9   odometer      558743 non-null  float64\n",
      " 10  color         558088 non-null  object \n",
      " 11  interior      558088 non-null  object \n",
      " 12  seller        558837 non-null  object \n",
      " 13  mmr           558799 non-null  float64\n",
      " 14  sellingprice  558825 non-null  float64\n",
      " 15  saledate      558825 non-null  object \n",
      "dtypes: float64(4), int64(1), object(11)\n",
      "memory usage: 68.2+ MB\n"
     ]
    }
   ],
   "source": [
    "# untuk menampilkan tipe data \n",
    "df.info()"
   ]
  },
  {
   "cell_type": "code",
   "execution_count": 140,
   "metadata": {},
   "outputs": [
    {
     "data": {
      "text/html": [
       "<div>\n",
       "<style scoped>\n",
       "    .dataframe tbody tr th:only-of-type {\n",
       "        vertical-align: middle;\n",
       "    }\n",
       "\n",
       "    .dataframe tbody tr th {\n",
       "        vertical-align: top;\n",
       "    }\n",
       "\n",
       "    .dataframe thead th {\n",
       "        text-align: right;\n",
       "    }\n",
       "</style>\n",
       "<table border=\"1\" class=\"dataframe\">\n",
       "  <thead>\n",
       "    <tr style=\"text-align: right;\">\n",
       "      <th></th>\n",
       "      <th>year</th>\n",
       "      <th>make</th>\n",
       "      <th>model</th>\n",
       "      <th>trim</th>\n",
       "      <th>body</th>\n",
       "      <th>transmission</th>\n",
       "      <th>vin</th>\n",
       "      <th>state</th>\n",
       "      <th>condition</th>\n",
       "      <th>odometer</th>\n",
       "      <th>color</th>\n",
       "      <th>interior</th>\n",
       "      <th>seller</th>\n",
       "      <th>mmr</th>\n",
       "      <th>sellingprice</th>\n",
       "      <th>saledate</th>\n",
       "    </tr>\n",
       "  </thead>\n",
       "  <tbody>\n",
       "    <tr>\n",
       "      <th>count</th>\n",
       "      <td>558837.000000</td>\n",
       "      <td>548536</td>\n",
       "      <td>548438</td>\n",
       "      <td>548186</td>\n",
       "      <td>545642</td>\n",
       "      <td>493485</td>\n",
       "      <td>558833</td>\n",
       "      <td>558837</td>\n",
       "      <td>547017.000000</td>\n",
       "      <td>558743.000000</td>\n",
       "      <td>558088</td>\n",
       "      <td>558088</td>\n",
       "      <td>558837</td>\n",
       "      <td>558799.000000</td>\n",
       "      <td>558825.000000</td>\n",
       "      <td>558825</td>\n",
       "    </tr>\n",
       "    <tr>\n",
       "      <th>unique</th>\n",
       "      <td>NaN</td>\n",
       "      <td>96</td>\n",
       "      <td>973</td>\n",
       "      <td>1963</td>\n",
       "      <td>87</td>\n",
       "      <td>4</td>\n",
       "      <td>550297</td>\n",
       "      <td>64</td>\n",
       "      <td>NaN</td>\n",
       "      <td>NaN</td>\n",
       "      <td>46</td>\n",
       "      <td>17</td>\n",
       "      <td>14263</td>\n",
       "      <td>NaN</td>\n",
       "      <td>NaN</td>\n",
       "      <td>3766</td>\n",
       "    </tr>\n",
       "    <tr>\n",
       "      <th>top</th>\n",
       "      <td>NaN</td>\n",
       "      <td>Ford</td>\n",
       "      <td>Altima</td>\n",
       "      <td>Base</td>\n",
       "      <td>Sedan</td>\n",
       "      <td>automatic</td>\n",
       "      <td>automatic</td>\n",
       "      <td>fl</td>\n",
       "      <td>NaN</td>\n",
       "      <td>NaN</td>\n",
       "      <td>black</td>\n",
       "      <td>black</td>\n",
       "      <td>nissan-infiniti lt</td>\n",
       "      <td>NaN</td>\n",
       "      <td>NaN</td>\n",
       "      <td>Tue Feb 10 2015 01:30:00 GMT-0800 (PST)</td>\n",
       "    </tr>\n",
       "    <tr>\n",
       "      <th>freq</th>\n",
       "      <td>NaN</td>\n",
       "      <td>93554</td>\n",
       "      <td>19349</td>\n",
       "      <td>55817</td>\n",
       "      <td>199437</td>\n",
       "      <td>475915</td>\n",
       "      <td>22</td>\n",
       "      <td>82945</td>\n",
       "      <td>NaN</td>\n",
       "      <td>NaN</td>\n",
       "      <td>110970</td>\n",
       "      <td>244329</td>\n",
       "      <td>19693</td>\n",
       "      <td>NaN</td>\n",
       "      <td>NaN</td>\n",
       "      <td>5334</td>\n",
       "    </tr>\n",
       "    <tr>\n",
       "      <th>mean</th>\n",
       "      <td>2010.038927</td>\n",
       "      <td>NaN</td>\n",
       "      <td>NaN</td>\n",
       "      <td>NaN</td>\n",
       "      <td>NaN</td>\n",
       "      <td>NaN</td>\n",
       "      <td>NaN</td>\n",
       "      <td>NaN</td>\n",
       "      <td>30.672365</td>\n",
       "      <td>68320.017767</td>\n",
       "      <td>NaN</td>\n",
       "      <td>NaN</td>\n",
       "      <td>NaN</td>\n",
       "      <td>13769.377495</td>\n",
       "      <td>13611.358810</td>\n",
       "      <td>NaN</td>\n",
       "    </tr>\n",
       "    <tr>\n",
       "      <th>std</th>\n",
       "      <td>3.966864</td>\n",
       "      <td>NaN</td>\n",
       "      <td>NaN</td>\n",
       "      <td>NaN</td>\n",
       "      <td>NaN</td>\n",
       "      <td>NaN</td>\n",
       "      <td>NaN</td>\n",
       "      <td>NaN</td>\n",
       "      <td>13.402832</td>\n",
       "      <td>53398.542821</td>\n",
       "      <td>NaN</td>\n",
       "      <td>NaN</td>\n",
       "      <td>NaN</td>\n",
       "      <td>9679.967174</td>\n",
       "      <td>9749.501628</td>\n",
       "      <td>NaN</td>\n",
       "    </tr>\n",
       "    <tr>\n",
       "      <th>min</th>\n",
       "      <td>1982.000000</td>\n",
       "      <td>NaN</td>\n",
       "      <td>NaN</td>\n",
       "      <td>NaN</td>\n",
       "      <td>NaN</td>\n",
       "      <td>NaN</td>\n",
       "      <td>NaN</td>\n",
       "      <td>NaN</td>\n",
       "      <td>1.000000</td>\n",
       "      <td>1.000000</td>\n",
       "      <td>NaN</td>\n",
       "      <td>NaN</td>\n",
       "      <td>NaN</td>\n",
       "      <td>25.000000</td>\n",
       "      <td>1.000000</td>\n",
       "      <td>NaN</td>\n",
       "    </tr>\n",
       "    <tr>\n",
       "      <th>25%</th>\n",
       "      <td>2007.000000</td>\n",
       "      <td>NaN</td>\n",
       "      <td>NaN</td>\n",
       "      <td>NaN</td>\n",
       "      <td>NaN</td>\n",
       "      <td>NaN</td>\n",
       "      <td>NaN</td>\n",
       "      <td>NaN</td>\n",
       "      <td>23.000000</td>\n",
       "      <td>28371.000000</td>\n",
       "      <td>NaN</td>\n",
       "      <td>NaN</td>\n",
       "      <td>NaN</td>\n",
       "      <td>7100.000000</td>\n",
       "      <td>6900.000000</td>\n",
       "      <td>NaN</td>\n",
       "    </tr>\n",
       "    <tr>\n",
       "      <th>50%</th>\n",
       "      <td>2012.000000</td>\n",
       "      <td>NaN</td>\n",
       "      <td>NaN</td>\n",
       "      <td>NaN</td>\n",
       "      <td>NaN</td>\n",
       "      <td>NaN</td>\n",
       "      <td>NaN</td>\n",
       "      <td>NaN</td>\n",
       "      <td>35.000000</td>\n",
       "      <td>52254.000000</td>\n",
       "      <td>NaN</td>\n",
       "      <td>NaN</td>\n",
       "      <td>NaN</td>\n",
       "      <td>12250.000000</td>\n",
       "      <td>12100.000000</td>\n",
       "      <td>NaN</td>\n",
       "    </tr>\n",
       "    <tr>\n",
       "      <th>75%</th>\n",
       "      <td>2013.000000</td>\n",
       "      <td>NaN</td>\n",
       "      <td>NaN</td>\n",
       "      <td>NaN</td>\n",
       "      <td>NaN</td>\n",
       "      <td>NaN</td>\n",
       "      <td>NaN</td>\n",
       "      <td>NaN</td>\n",
       "      <td>42.000000</td>\n",
       "      <td>99109.000000</td>\n",
       "      <td>NaN</td>\n",
       "      <td>NaN</td>\n",
       "      <td>NaN</td>\n",
       "      <td>18300.000000</td>\n",
       "      <td>18200.000000</td>\n",
       "      <td>NaN</td>\n",
       "    </tr>\n",
       "    <tr>\n",
       "      <th>max</th>\n",
       "      <td>2015.000000</td>\n",
       "      <td>NaN</td>\n",
       "      <td>NaN</td>\n",
       "      <td>NaN</td>\n",
       "      <td>NaN</td>\n",
       "      <td>NaN</td>\n",
       "      <td>NaN</td>\n",
       "      <td>NaN</td>\n",
       "      <td>49.000000</td>\n",
       "      <td>999999.000000</td>\n",
       "      <td>NaN</td>\n",
       "      <td>NaN</td>\n",
       "      <td>NaN</td>\n",
       "      <td>182000.000000</td>\n",
       "      <td>230000.000000</td>\n",
       "      <td>NaN</td>\n",
       "    </tr>\n",
       "  </tbody>\n",
       "</table>\n",
       "</div>"
      ],
      "text/plain": [
       "                 year    make   model    trim    body transmission        vin  \\\n",
       "count   558837.000000  548536  548438  548186  545642       493485     558833   \n",
       "unique            NaN      96     973    1963      87            4     550297   \n",
       "top               NaN    Ford  Altima    Base   Sedan    automatic  automatic   \n",
       "freq              NaN   93554   19349   55817  199437       475915         22   \n",
       "mean      2010.038927     NaN     NaN     NaN     NaN          NaN        NaN   \n",
       "std          3.966864     NaN     NaN     NaN     NaN          NaN        NaN   \n",
       "min       1982.000000     NaN     NaN     NaN     NaN          NaN        NaN   \n",
       "25%       2007.000000     NaN     NaN     NaN     NaN          NaN        NaN   \n",
       "50%       2012.000000     NaN     NaN     NaN     NaN          NaN        NaN   \n",
       "75%       2013.000000     NaN     NaN     NaN     NaN          NaN        NaN   \n",
       "max       2015.000000     NaN     NaN     NaN     NaN          NaN        NaN   \n",
       "\n",
       "         state      condition       odometer   color interior  \\\n",
       "count   558837  547017.000000  558743.000000  558088   558088   \n",
       "unique      64            NaN            NaN      46       17   \n",
       "top         fl            NaN            NaN   black    black   \n",
       "freq     82945            NaN            NaN  110970   244329   \n",
       "mean       NaN      30.672365   68320.017767     NaN      NaN   \n",
       "std        NaN      13.402832   53398.542821     NaN      NaN   \n",
       "min        NaN       1.000000       1.000000     NaN      NaN   \n",
       "25%        NaN      23.000000   28371.000000     NaN      NaN   \n",
       "50%        NaN      35.000000   52254.000000     NaN      NaN   \n",
       "75%        NaN      42.000000   99109.000000     NaN      NaN   \n",
       "max        NaN      49.000000  999999.000000     NaN      NaN   \n",
       "\n",
       "                    seller            mmr   sellingprice  \\\n",
       "count               558837  558799.000000  558825.000000   \n",
       "unique               14263            NaN            NaN   \n",
       "top     nissan-infiniti lt            NaN            NaN   \n",
       "freq                 19693            NaN            NaN   \n",
       "mean                   NaN   13769.377495   13611.358810   \n",
       "std                    NaN    9679.967174    9749.501628   \n",
       "min                    NaN      25.000000       1.000000   \n",
       "25%                    NaN    7100.000000    6900.000000   \n",
       "50%                    NaN   12250.000000   12100.000000   \n",
       "75%                    NaN   18300.000000   18200.000000   \n",
       "max                    NaN  182000.000000  230000.000000   \n",
       "\n",
       "                                       saledate  \n",
       "count                                    558825  \n",
       "unique                                     3766  \n",
       "top     Tue Feb 10 2015 01:30:00 GMT-0800 (PST)  \n",
       "freq                                       5334  \n",
       "mean                                        NaN  \n",
       "std                                         NaN  \n",
       "min                                         NaN  \n",
       "25%                                         NaN  \n",
       "50%                                         NaN  \n",
       "75%                                         NaN  \n",
       "max                                         NaN  "
      ]
     },
     "execution_count": 140,
     "metadata": {},
     "output_type": "execute_result"
    }
   ],
   "source": [
    "# deskriptif analisis ke semua kolom\n",
    "descriptive_stats = df.describe(include='all')\n",
    "descriptive_stats"
   ]
  },
  {
   "cell_type": "code",
   "execution_count": 141,
   "metadata": {},
   "outputs": [
    {
     "data": {
      "text/plain": [
       "{'make': 96,\n",
       " 'model': 973,\n",
       " 'trim': 1963,\n",
       " 'body': 87,\n",
       " 'transmission': 4,\n",
       " 'vin': 550297,\n",
       " 'state': 64,\n",
       " 'color': 46,\n",
       " 'interior': 17,\n",
       " 'seller': 14263,\n",
       " 'saledate': 3766}"
      ]
     },
     "execution_count": 141,
     "metadata": {},
     "output_type": "execute_result"
    }
   ],
   "source": [
    "# Mengecek Value yang unik tiap kolom\n",
    "unique_values = {col: df[col].nunique() for col in df.select_dtypes(include=['object']).columns}\n",
    "unique_values"
   ]
  },
  {
   "cell_type": "code",
   "execution_count": 142,
   "metadata": {},
   "outputs": [
    {
     "data": {
      "text/plain": [
       "0"
      ]
     },
     "execution_count": 142,
     "metadata": {},
     "output_type": "execute_result"
    }
   ],
   "source": [
    "# Mengecek baris terdapat duplikat atau tidak\n",
    "duplicated_rows = df.duplicated().sum()\n",
    "duplicated_rows"
   ]
  },
  {
   "cell_type": "markdown",
   "metadata": {},
   "source": [
    "# 3. Data Cleaning"
   ]
  },
  {
   "cell_type": "code",
   "execution_count": 143,
   "metadata": {},
   "outputs": [],
   "source": [
    "# inputasi misisng values dapa tipe data yang str\n",
    "df['transmission']=df['transmission'].fillna(df['transmission'].mode()[0]) #karena transmission berisikan kategori, pilihannya antara automatic atau manual, jadi menggunakan mode\n",
    "df['body']=df['body'].fillna(value='No_Value')\n",
    "df['trim']=df['trim'].fillna(value='No_Value')\n",
    "df['model']=df['model'].fillna(value='No_Value')\n",
    "df['color']=df['color'].fillna(value='No_Value')\n",
    "df['interior']=df['interior'].fillna(value='No_Value')\n",
    "df['vin']=df['vin'].fillna(value='No_Value')\n",
    "df['make']=df['make'].fillna(value='No_Value')"
   ]
  },
  {
   "cell_type": "code",
   "execution_count": 144,
   "metadata": {},
   "outputs": [],
   "source": [
    "# inputasi misisng values dapa tipe data yang nnumeric\n",
    "df['condition']=df['condition'].fillna(df['condition'].median())\n",
    "df['odometer']=df['odometer'].fillna(df['odometer'].median())\n",
    "df['mmr']=df['mmr'].fillna(df['mmr'].median)\n",
    "df['sellingprice']=df['sellingprice'].fillna(df['sellingprice'].mean())"
   ]
  },
  {
   "cell_type": "code",
   "execution_count": 172,
   "metadata": {},
   "outputs": [
    {
     "name": "stderr",
     "output_type": "stream",
     "text": [
      "C:\\Users\\User\\AppData\\Local\\Temp\\ipykernel_3020\\4213249213.py:3: FutureWarning: A value is trying to be set on a copy of a DataFrame or Series through chained assignment using an inplace method.\n",
      "The behavior will change in pandas 3.0. This inplace method will never work because the intermediate object on which we are setting values always behaves as a copy.\n",
      "\n",
      "For example, when doing 'df[col].method(value, inplace=True)', try using 'df.method({col: value}, inplace=True)' or df[col] = df[col].method(value) instead, to perform the operation inplace on the original object.\n",
      "\n",
      "\n",
      "  df['saledate'].fillna(pd.Timestamp('2014-01-01'), inplace=True)\n"
     ]
    }
   ],
   "source": [
    "df['saledate'] = pd.to_datetime(df['saledate'], errors='coerce')\n",
    "df = df.dropna(subset=['saledate'])\n",
    "df['saledate'].fillna(pd.Timestamp('2014-01-01'), inplace=True)"
   ]
  },
  {
   "cell_type": "code",
   "execution_count": 173,
   "metadata": {},
   "outputs": [
    {
     "data": {
      "text/plain": [
       "year            0\n",
       "make            0\n",
       "model           0\n",
       "trim            0\n",
       "body            0\n",
       "transmission    0\n",
       "vin             0\n",
       "state           0\n",
       "condition       0\n",
       "odometer        0\n",
       "color           0\n",
       "interior        0\n",
       "seller          0\n",
       "mmr             0\n",
       "sellingprice    0\n",
       "saledate        0\n",
       "dtype: int64"
      ]
     },
     "execution_count": 173,
     "metadata": {},
     "output_type": "execute_result"
    }
   ],
   "source": [
    "df.isna().sum().sort_values(ascending=False)"
   ]
  },
  {
   "cell_type": "code",
   "execution_count": 147,
   "metadata": {},
   "outputs": [],
   "source": [
    "df['make']=df['make'].str.upper()\n",
    "df['model']=df['model'].str.upper()\n"
   ]
  },
  {
   "cell_type": "code",
   "execution_count": 148,
   "metadata": {},
   "outputs": [
    {
     "data": {
      "text/html": [
       "<div>\n",
       "<style scoped>\n",
       "    .dataframe tbody tr th:only-of-type {\n",
       "        vertical-align: middle;\n",
       "    }\n",
       "\n",
       "    .dataframe tbody tr th {\n",
       "        vertical-align: top;\n",
       "    }\n",
       "\n",
       "    .dataframe thead th {\n",
       "        text-align: right;\n",
       "    }\n",
       "</style>\n",
       "<table border=\"1\" class=\"dataframe\">\n",
       "  <thead>\n",
       "    <tr style=\"text-align: right;\">\n",
       "      <th></th>\n",
       "      <th>year</th>\n",
       "      <th>make</th>\n",
       "      <th>model</th>\n",
       "      <th>trim</th>\n",
       "      <th>body</th>\n",
       "      <th>transmission</th>\n",
       "      <th>vin</th>\n",
       "      <th>state</th>\n",
       "      <th>condition</th>\n",
       "      <th>odometer</th>\n",
       "      <th>color</th>\n",
       "      <th>interior</th>\n",
       "      <th>seller</th>\n",
       "      <th>mmr</th>\n",
       "      <th>sellingprice</th>\n",
       "      <th>saledate</th>\n",
       "    </tr>\n",
       "  </thead>\n",
       "  <tbody>\n",
       "    <tr>\n",
       "      <th>0</th>\n",
       "      <td>2015</td>\n",
       "      <td>KIA</td>\n",
       "      <td>SORENTO</td>\n",
       "      <td>LX</td>\n",
       "      <td>SUV</td>\n",
       "      <td>automatic</td>\n",
       "      <td>5xyktca69fg566472</td>\n",
       "      <td>ca</td>\n",
       "      <td>5.0</td>\n",
       "      <td>16639.0</td>\n",
       "      <td>white</td>\n",
       "      <td>black</td>\n",
       "      <td>kia motors america  inc</td>\n",
       "      <td>20500.0</td>\n",
       "      <td>21500.0</td>\n",
       "      <td>2014-12-16 12:30:00+08:00</td>\n",
       "    </tr>\n",
       "    <tr>\n",
       "      <th>1</th>\n",
       "      <td>2015</td>\n",
       "      <td>KIA</td>\n",
       "      <td>SORENTO</td>\n",
       "      <td>LX</td>\n",
       "      <td>SUV</td>\n",
       "      <td>automatic</td>\n",
       "      <td>5xyktca69fg561319</td>\n",
       "      <td>ca</td>\n",
       "      <td>5.0</td>\n",
       "      <td>9393.0</td>\n",
       "      <td>white</td>\n",
       "      <td>beige</td>\n",
       "      <td>kia motors america  inc</td>\n",
       "      <td>20800.0</td>\n",
       "      <td>21500.0</td>\n",
       "      <td>2014-12-16 12:30:00+08:00</td>\n",
       "    </tr>\n",
       "    <tr>\n",
       "      <th>2</th>\n",
       "      <td>2014</td>\n",
       "      <td>BMW</td>\n",
       "      <td>3 SERIES</td>\n",
       "      <td>328i SULEV</td>\n",
       "      <td>Sedan</td>\n",
       "      <td>automatic</td>\n",
       "      <td>wba3c1c51ek116351</td>\n",
       "      <td>ca</td>\n",
       "      <td>45.0</td>\n",
       "      <td>1331.0</td>\n",
       "      <td>gray</td>\n",
       "      <td>black</td>\n",
       "      <td>financial services remarketing (lease)</td>\n",
       "      <td>31900.0</td>\n",
       "      <td>30000.0</td>\n",
       "      <td>2015-01-15 04:30:00+08:00</td>\n",
       "    </tr>\n",
       "    <tr>\n",
       "      <th>3</th>\n",
       "      <td>2015</td>\n",
       "      <td>VOLVO</td>\n",
       "      <td>S60</td>\n",
       "      <td>T5</td>\n",
       "      <td>Sedan</td>\n",
       "      <td>automatic</td>\n",
       "      <td>yv1612tb4f1310987</td>\n",
       "      <td>ca</td>\n",
       "      <td>41.0</td>\n",
       "      <td>14282.0</td>\n",
       "      <td>white</td>\n",
       "      <td>black</td>\n",
       "      <td>volvo na rep/world omni</td>\n",
       "      <td>27500.0</td>\n",
       "      <td>27750.0</td>\n",
       "      <td>2015-01-29 04:30:00+08:00</td>\n",
       "    </tr>\n",
       "    <tr>\n",
       "      <th>4</th>\n",
       "      <td>2014</td>\n",
       "      <td>BMW</td>\n",
       "      <td>6 SERIES GRAN COUPE</td>\n",
       "      <td>650i</td>\n",
       "      <td>Sedan</td>\n",
       "      <td>automatic</td>\n",
       "      <td>wba6b2c57ed129731</td>\n",
       "      <td>ca</td>\n",
       "      <td>43.0</td>\n",
       "      <td>2641.0</td>\n",
       "      <td>gray</td>\n",
       "      <td>black</td>\n",
       "      <td>financial services remarketing (lease)</td>\n",
       "      <td>66000.0</td>\n",
       "      <td>67000.0</td>\n",
       "      <td>2014-12-18 12:30:00+08:00</td>\n",
       "    </tr>\n",
       "  </tbody>\n",
       "</table>\n",
       "</div>"
      ],
      "text/plain": [
       "   year   make                model        trim   body transmission  \\\n",
       "0  2015    KIA              SORENTO          LX    SUV    automatic   \n",
       "1  2015    KIA              SORENTO          LX    SUV    automatic   \n",
       "2  2014    BMW             3 SERIES  328i SULEV  Sedan    automatic   \n",
       "3  2015  VOLVO                  S60          T5  Sedan    automatic   \n",
       "4  2014    BMW  6 SERIES GRAN COUPE        650i  Sedan    automatic   \n",
       "\n",
       "                 vin state  condition  odometer  color interior  \\\n",
       "0  5xyktca69fg566472    ca        5.0   16639.0  white    black   \n",
       "1  5xyktca69fg561319    ca        5.0    9393.0  white    beige   \n",
       "2  wba3c1c51ek116351    ca       45.0    1331.0   gray    black   \n",
       "3  yv1612tb4f1310987    ca       41.0   14282.0  white    black   \n",
       "4  wba6b2c57ed129731    ca       43.0    2641.0   gray    black   \n",
       "\n",
       "                                   seller      mmr  sellingprice  \\\n",
       "0                 kia motors america  inc  20500.0       21500.0   \n",
       "1                 kia motors america  inc  20800.0       21500.0   \n",
       "2  financial services remarketing (lease)  31900.0       30000.0   \n",
       "3                 volvo na rep/world omni  27500.0       27750.0   \n",
       "4  financial services remarketing (lease)  66000.0       67000.0   \n",
       "\n",
       "                    saledate  \n",
       "0  2014-12-16 12:30:00+08:00  \n",
       "1  2014-12-16 12:30:00+08:00  \n",
       "2  2015-01-15 04:30:00+08:00  \n",
       "3  2015-01-29 04:30:00+08:00  \n",
       "4  2014-12-18 12:30:00+08:00  "
      ]
     },
     "execution_count": 148,
     "metadata": {},
     "output_type": "execute_result"
    }
   ],
   "source": [
    "df.head()"
   ]
  },
  {
   "cell_type": "code",
   "execution_count": 149,
   "metadata": {},
   "outputs": [
    {
     "data": {
      "text/plain": [
       "array(['KIA', 'BMW', 'VOLVO', 'NISSAN', 'CHEVROLET', 'AUDI', 'FORD',\n",
       "       'HYUNDAI', 'BUICK', 'CADILLAC', 'ACURA', 'LEXUS', 'INFINITI',\n",
       "       'JEEP', 'MERCEDES-BENZ', 'MITSUBISHI', 'MAZDA', 'MINI',\n",
       "       'LAND ROVER', 'LINCOLN', 'JAGUAR', 'VOLKSWAGEN', 'TOYOTA',\n",
       "       'SUBARU', 'SCION', 'PORSCHE', 'NO_VALUE', 'DODGE', 'FIAT',\n",
       "       'CHRYSLER', 'FERRARI', 'HONDA', 'GMC', 'RAM', 'SMART', 'BENTLEY',\n",
       "       'PONTIAC', 'SATURN', 'MASERATI', 'MERCURY', 'HUMMER', 'LANDROVER',\n",
       "       'MERCEDES', 'GMC TRUCK', 'SAAB', 'SUZUKI', 'OLDSMOBILE', 'ISUZU',\n",
       "       'DODGE TK', 'GEO', 'ROLLS-ROYCE', 'MAZDA TK', 'HYUNDAI TK',\n",
       "       'MERCEDES-B', 'VW', 'DAEWOO', 'CHEV TRUCK', 'FORD TK', 'PLYMOUTH',\n",
       "       'FORD TRUCK', 'TESLA', 'AIRSTREAM', 'DOT', 'ASTON MARTIN',\n",
       "       'FISKER', 'LAMBORGHINI', 'LOTUS'], dtype=object)"
      ]
     },
     "execution_count": 149,
     "metadata": {},
     "output_type": "execute_result"
    }
   ],
   "source": [
    "df['make'].unique()"
   ]
  },
  {
   "cell_type": "code",
   "execution_count": 174,
   "metadata": {},
   "outputs": [
    {
     "data": {
      "text/plain": [
       "datetime64[ns, tzoffset('PST', 28800)]"
      ]
     },
     "execution_count": 174,
     "metadata": {},
     "output_type": "execute_result"
    }
   ],
   "source": [
    "df['saledate'].dtype"
   ]
  },
  {
   "cell_type": "markdown",
   "metadata": {},
   "source": [
    "# 4. Bussiness Understanding"
   ]
  },
  {
   "cell_type": "markdown",
   "metadata": {},
   "source": [
    "## 4.1 Konteks Bisnis"
   ]
  },
  {
   "cell_type": "markdown",
   "metadata": {},
   "source": [
    "### Latar Belakang"
   ]
  },
  {
   "cell_type": "markdown",
   "metadata": {},
   "source": [
    "Dalam industri otomotif, harga mobil merupakan salah satu faktor kunci yang mempengaruhi keputusan pembelian konsumen. Dengan banyaknya merek, model, dan fitur yang tersedia, konsumen sering kali merasa kesulitan untuk menentukan harga yang wajar untuk mobil yang mereka inginkan. Selain itu, dealer mobil juga perlu memahami dinamika pasar untuk menetapkan harga yang kompetitif dan menarik bagi pelanggan. Dataset 'car_prices.csv' berisi informasi penting mengenai harga mobil, termasuk berbagai atribut seperti merek, model, tahun, dan fitur lainnya. Dengan menganalisis dataset ini, kita dapat mengidentifikasi faktor-faktor yang mempengaruhi harga mobil dan memberikan wawasan yang berguna bagi konsumen dan dealer."
   ]
  },
  {
   "cell_type": "markdown",
   "metadata": {},
   "source": [
    "### Tujuan"
   ]
  },
  {
   "cell_type": "markdown",
   "metadata": {},
   "source": [
    "\n",
    "- Menganalisis Faktor-faktor yang Mempengaruhi Harga Mobil: Mengidentifikasi dan menganalisis atribut-atribut yang berkontribusi terhadap variasi harga mobil dalam dataset.\n",
    "- Memberikan Rekomendasi: Menyediakan rekomendasi bagi dealer mobil dan konsumen mengenai strategi penetapan harga dan pemilihan mobil berdasarkan analisis yang dilakukan.\n"
   ]
  },
  {
   "cell_type": "markdown",
   "metadata": {},
   "source": [
    "### Problem yang ingin diangkat"
   ]
  },
  {
   "cell_type": "markdown",
   "metadata": {},
   "source": [
    "Bagaimana faktor-faktor tertentu, seperti merek, model, tahun, dan fitur mobil, mempengaruhi harga jual mobil di pasar? Dengan menjawab pertanyaan ini, kita dapat memberikan wawasan yang lebih dalam tentang dinamika harga mobil dan membantu konsumen serta dealer dalam pengambilan keputusan."
   ]
  },
  {
   "cell_type": "markdown",
   "metadata": {},
   "source": [
    "### Report ini ditujukan untuk:"
   ]
  },
  {
   "cell_type": "markdown",
   "metadata": {},
   "source": [
    "\n",
    "- Dealer Mobil: Mereka yang terlibat dalam penjualan mobil dan perlu memahami faktor-faktor yang mempengaruhi harga untuk menetapkan harga yang kompetitif.\n",
    "- Konsumen: Pembeli potensial yang ingin mendapatkan informasi yang akurat mengenai harga mobil dan faktor-faktor yang mempengaruhinya sebelum melakukan pembelian.\n",
    "- Peneliti dan Akademisi: Individu yang tertarik dalam analisis data dan penelitian di bidang otomotif, yang dapat menggunakan temuan dari report ini untuk studi lebih lanjut.\n",
    "- Pihak Terkait dalam Industri Otomotif: Termasuk analis pasar dan pengambil keputusan yang ingin memahami tren harga dan perilaku konsumen dalam pasar otomotif.\n"
   ]
  },
  {
   "cell_type": "markdown",
   "metadata": {},
   "source": [
    "## 4.2 Analisis SMART"
   ]
  },
  {
   "cell_type": "markdown",
   "metadata": {},
   "source": [
    "### Spesifik"
   ]
  },
  {
   "cell_type": "markdown",
   "metadata": {},
   "source": [
    "Kami ingin menganalisis faktor-faktor yang mempengaruhi harga mobil dalam dataset car_prices.csv, yang mencakup informasi tentang merek, model, tahun, dan fitur mobil."
   ]
  },
  {
   "cell_type": "markdown",
   "metadata": {},
   "source": [
    "### Measurable"
   ]
  },
  {
   "cell_type": "markdown",
   "metadata": {},
   "source": [
    "Kami akan mengukur perbedaan rata-rata harga mobil terhadap setiap fiturnya, kami batasi terkhusus untuk bertransmisi automatic dan manual."
   ]
  },
  {
   "cell_type": "markdown",
   "metadata": {},
   "source": [
    "### Achievable"
   ]
  },
  {
   "cell_type": "markdown",
   "metadata": {},
   "source": [
    "Dengan menggunakan dataset yang tersedia, kami akan mengetahui harga rata-rata dari mobil bertransmisi automatic dan manual."
   ]
  },
  {
   "cell_type": "markdown",
   "metadata": {},
   "source": [
    "### Relevant"
   ]
  },
  {
   "cell_type": "markdown",
   "metadata": {},
   "source": [
    "Analisis ini relevan untuk dealer mobil dan pembeli yang ingin memahami harga pasar dan faktor-faktor yang mempengaruhi harga mobil"
   ]
  },
  {
   "cell_type": "markdown",
   "metadata": {},
   "source": [
    "### Time-bound"
   ]
  },
  {
   "cell_type": "markdown",
   "metadata": {},
   "source": [
    "Kami akan menyelesaikan analisis dan presentasi hasil dalam waktu 4 minggu dari sekarang"
   ]
  },
  {
   "cell_type": "markdown",
   "metadata": {},
   "source": [
    "### Rangkuman"
   ]
  },
  {
   "cell_type": "markdown",
   "metadata": {},
   "source": [
    "Berdasarkan dataset car_prices.csv, kami ingin menganalisis faktor-faktor yang mempengaruhi harga mobil. Kami akan membangun model rata-rata penjualan dari mobil bertransmisi autimatic ataupun manual. Proyek ini akan diselesaikan dalam waktu 4 minggu dan hasilnya akan memberikan wawasan yang relevan bagi dealer dan pembeli mobil."
   ]
  },
  {
   "cell_type": "markdown",
   "metadata": {},
   "source": [
    "## 4.3 Penjabaran Masalah dengan Metode 5W+1H"
   ]
  },
  {
   "cell_type": "markdown",
   "metadata": {},
   "source": [
    "### What (Apa)"
   ]
  },
  {
   "cell_type": "markdown",
   "metadata": {},
   "source": [
    " Key Question 1 : \n",
    " Distribusi harga mobil dalam dataset?\n"
   ]
  },
  {
   "cell_type": "markdown",
   "metadata": {},
   "source": [
    "Penjelasan : \n",
    "\n",
    "Kita akan mengukur distribusi penjualan mobil. Kita akan mengacu pada data 'sellingprice' untuk mengetahui harga, lalu kita sandingkan dengan 'count' untuk menghitung frekuensi pembelian."
   ]
  },
  {
   "cell_type": "code",
   "execution_count": 177,
   "metadata": {},
   "outputs": [
    {
     "data": {
      "image/png": "[encoded data removed]",
      "text/plain": [
       "<Figure size 1000x600 with 1 Axes>"
      ]
     },
     "metadata": {},
     "output_type": "display_data"
    }
   ],
   "source": [
    "# Membuat Histogram Distribusi Penjualan Mobil\n",
    "plt.figure(figsize=(10, 6))\n",
    "plt.hist(df['sellingprice'], bins=20, color='skyblue', edgecolor='black')\n",
    "plt.title('Distribusi Penjualan Mobil')\n",
    "plt.xlabel('Harga Jual (USD)')\n",
    "plt.ylabel('Frekuensi')\n",
    "plt.grid(axis='y', alpha=0.75)\n",
    "plt.show()"
   ]
  },
  {
   "cell_type": "markdown",
   "metadata": {},
   "source": [
    "Insight :\n",
    "- Histogram menunjukkan distribusi yang sangat miring ke kiri (left-skewed). Sebagian besar penjualan mobil terfokus pada harga yang lebih rendah, dengan frekuensi yang menurun secara signifikan untuk harga yang lebih tinggi.\n",
    "- Sebagian besar mobil terjual dengan harga di bawah $50,000. Ini menunjukkan bahwa pasar mobil didominasi oleh mobil dengan harga lebih terjangkau, yang mungkin mencerminkan preferensi konsumen untuk kendaraan yang lebih ekonomis.\n",
    "- Pemasaran untuk mobil dengan harga lebih rendah mungkin lebih efektif, sementara mobil dengan harga tinggi mungkin memerlukan strategi pemasaran yang berbeda untuk menarik pembeli.\n"
   ]
  },
  {
   "cell_type": "markdown",
   "metadata": {},
   "source": [
    "### Who (Siapa)"
   ]
  },
  {
   "cell_type": "markdown",
   "metadata": {},
   "source": [
    "Key Question 2 : \n",
    "Merk mobil yang paling sering dibeli?"
   ]
  },
  {
   "cell_type": "markdown",
   "metadata": {},
   "source": [
    "Penjelasan : \n",
    "Setelah mengetahui distribusi penjualan mobil, perlu bagi konsumen untuk mengetahui referensi merk mobil yang paling banyak dibeli itu merk apa.\n"
   ]
  },
  {
   "cell_type": "code",
   "execution_count": 153,
   "metadata": {},
   "outputs": [
    {
     "data": {
      "text/plain": [
       "make\n",
       "FORD         93996\n",
       "CHEVROLET    60587\n",
       "NISSAN       54017\n",
       "TOYOTA       39966\n",
       "DODGE        30953\n",
       "             ...  \n",
       "FORD TK          1\n",
       "MAZDA TK         1\n",
       "AIRSTREAM        1\n",
       "DOT              1\n",
       "LOTUS            1\n",
       "Name: count, Length: 67, dtype: int64"
      ]
     },
     "execution_count": 153,
     "metadata": {},
     "output_type": "execute_result"
    }
   ],
   "source": [
    "# Menghitung jumlah mobil terjual per merek\n",
    "brand_counts = df['make'].value_counts()\n",
    "brand_counts"
   ]
  },
  {
   "cell_type": "code",
   "execution_count": 154,
   "metadata": {},
   "outputs": [
    {
     "data": {
      "text/plain": [
       "make\n",
       "FORD         93996\n",
       "CHEVROLET    60587\n",
       "NISSAN       54017\n",
       "TOYOTA       39966\n",
       "DODGE        30953\n",
       "HONDA        27351\n",
       "HYUNDAI      21831\n",
       "BMW          20793\n",
       "KIA          18082\n",
       "CHRYSLER     17483\n",
       "Name: count, dtype: int64"
      ]
     },
     "execution_count": 154,
     "metadata": {},
     "output_type": "execute_result"
    }
   ],
   "source": [
    "# Menampilkan 10 merek dengan jumlah terbanyak\n",
    "top_brands = brand_counts.head(10)\n",
    "top_brands"
   ]
  },
  {
   "cell_type": "code",
   "execution_count": 155,
   "metadata": {},
   "outputs": [
    {
     "name": "stderr",
     "output_type": "stream",
     "text": [
      "C:\\Users\\User\\AppData\\Local\\Temp\\ipykernel_3020\\3258212454.py:3: FutureWarning: \n",
      "\n",
      "Passing `palette` without assigning `hue` is deprecated and will be removed in v0.14.0. Assign the `y` variable to `hue` and set `legend=False` for the same effect.\n",
      "\n",
      "  sns.barplot(x=top_brands.values, y=top_brands.index, palette='viridis')\n"
     ]
    },
    {
     "data": {
      "image/png": "[encoded data removed]",
      "text/plain": [
       "<Figure size 1200x800 with 1 Axes>"
      ]
     },
     "metadata": {},
     "output_type": "display_data"
    }
   ],
   "source": [
    "# Membuat visualisasi dengan bar chart\n",
    "plt.figure(figsize=(12, 8))\n",
    "sns.barplot(x=top_brands.values, y=top_brands.index, palette='viridis')\n",
    "plt.title('10 Merek Mobil dengan Jumlah Terbanyak yang Dijual')\n",
    "plt.xlabel('Jumlah Mobil Terjual')\n",
    "plt.ylabel('Merek Mobil')\n",
    "plt.grid(axis='x', linestyle='--', alpha=0.7)\n",
    "plt.show()"
   ]
  },
  {
   "cell_type": "code",
   "execution_count": 156,
   "metadata": {},
   "outputs": [
    {
     "name": "stdout",
     "output_type": "stream",
     "text": [
      "\n",
      "Insight:\n",
      "Merek mobil dengan jumlah terbanyak yang dijual adalah FORD dengan 93996 unit.\n",
      "Merek mobil dengan jumlah terendah dalam top 10 adalah CHRYSLER dengan 17483 unit.\n"
     ]
    }
   ],
   "source": [
    "print(\"\\nInsight:\")\n",
    "print(\"Merek mobil dengan jumlah terbanyak yang dijual adalah\", top_brands.index[0], \"dengan\", top_brands.values[0], \"unit.\")\n",
    "print(\"Merek mobil dengan jumlah terendah dalam top 10 adalah\", top_brands.index[-1], \"dengan\", top_brands.values[-1], \"unit.\")"
   ]
  },
  {
   "cell_type": "markdown",
   "metadata": {},
   "source": [
    "Insight :\n",
    "- Merek Ford dan Chevrolet menunjukkan jumlah penjualan yang sangat tinggi dibandingkan dengan merek lainnya. Ini menunjukkan bahwa kedua merek ini memiliki daya tarik yang kuat di pasar.\n",
    "- Merek seperti Chrysler dan Kia berada di bagian bawah daftar, menunjukkan bahwa mereka mungkin menghadapi tantangan dalam menarik pelanggan dibandingkan dengan merek yang lebih populer.\n"
   ]
  },
  {
   "cell_type": "markdown",
   "metadata": {},
   "source": [
    "### When (Kapan)"
   ]
  },
  {
   "cell_type": "markdown",
   "metadata": {},
   "source": [
    "Key Question 3 : Trend rata-rata harga jual per tahun?"
   ]
  },
  {
   "cell_type": "markdown",
   "metadata": {},
   "source": [
    "Penjelasan : Hal ini membantu untuk konsumen / produsen untuk mengetahui fluktuasi harga mobil yang berubah-ubah tiap tahunnya."
   ]
  },
  {
   "cell_type": "code",
   "execution_count": null,
   "metadata": {},
   "outputs": [],
   "source": [
    "# membuat harga rata-rata per tahun.\n",
    "average_price_per_year = df.groupby(df['year'])['sellingprice'].mean().reset_index()\n"
   ]
  },
  {
   "cell_type": "code",
   "execution_count": null,
   "metadata": {},
   "outputs": [
    {
     "data": {
      "image/png": "[encoded data removed]",
      "text/plain": [
       "<Figure size 1200x600 with 1 Axes>"
      ]
     },
     "metadata": {},
     "output_type": "display_data"
    }
   ],
   "source": [
    "# membuat diagram\n",
    "plt.figure(figsize=(12, 6))\n",
    "plt.plot(average_price_per_year['year'], average_price_per_year['sellingprice'], marker='o', linestyle='-')\n",
    "plt.title('Rata-Rata harga jual per tahun')\n",
    "plt.xlabel('Tahun')\n",
    "plt.ylabel('Rata-rata Harga Jual (USD)')\n",
    "plt.grid(axis='y', linestyle='--', alpha=0.7)\n",
    "plt.xticks(rotation=45)\n",
    "plt.tight_layout()"
   ]
  },
  {
   "cell_type": "markdown",
   "metadata": {},
   "source": [
    "Insight :\n",
    "- Pada awal periode (sekitar tahun 1985), terdapat penurunan harga yang signifikan. Hal ini mungkin disebabkan oleh berbagai faktor, seperti perubahan dalam permintaan pasar, inovasi teknologi, atau krisis ekonomi.\n",
    "- Dari tahun 1990 hingga 2005, harga tampak relatif stabil dengan sedikit fluktuasi. Ini menunjukkan bahwa pasar mobil mungkin telah mencapai keseimbangan antara penawaran dan permintaan.\n",
    "- Setelah tahun 2005, terdapat lonjakan yang tajam dalam rata-rata harga jual. Ini bisa disebabkan oleh beberapa faktor seperti inovasi teknologi, permintaan yang meningkat, dan inflasi.\n",
    "- Jika tren ini berlanjut, kita dapat mengharapkan harga mobil untuk terus meningkat di masa depan, yang dapat mempengaruhi keputusan pembelian konsumen dan strategi pemasaran dealer."
   ]
  },
  {
   "cell_type": "markdown",
   "metadata": {},
   "source": [
    "### Where (Dimana)"
   ]
  },
  {
   "cell_type": "markdown",
   "metadata": {},
   "source": [
    "Key Question 4 : Dimana lokasi yang paling banyak membeli mobil?\n"
   ]
  },
  {
   "cell_type": "markdown",
   "metadata": {},
   "source": [
    "Penjelasan : Perlu untuk mengetahui, seller mana dengan penjualan terbanyak. Bisa untuk referensi konsumen / dealer lainnya."
   ]
  },
  {
   "cell_type": "code",
   "execution_count": null,
   "metadata": {},
   "outputs": [],
   "source": [
    "# menghitung value seller\n",
    "seller_counts = df['seller'].value_counts()"
   ]
  },
  {
   "cell_type": "code",
   "execution_count": null,
   "metadata": {},
   "outputs": [],
   "source": [
    "# filtering 10 terbanyak\n",
    "top_10_sellers = seller_counts.head(10)"
   ]
  },
  {
   "cell_type": "code",
   "execution_count": 162,
   "metadata": {},
   "outputs": [
    {
     "data": {
      "image/png": "[encoded data removed]",
      "text/plain": [
       "<Figure size 1200x600 with 1 Axes>"
      ]
     },
     "metadata": {},
     "output_type": "display_data"
    }
   ],
   "source": [
    "# Membuat bar chart\n",
    "plt.figure(figsize=(12, 6))\n",
    "top_10_sellers.plot(kind='bar')\n",
    "plt.title('10 Seller Teratas Berdasarkan Jumlah Penjualan Mobil')\n",
    "plt.xlabel('Seller')\n",
    "plt.ylabel('Jumlah Penjualan')\n",
    "plt.xticks(rotation=45, ha='right')\n",
    "plt.tight_layout()\n",
    "plt.show()"
   ]
  },
  {
   "cell_type": "markdown",
   "metadata": {},
   "source": [
    "Insight : \n",
    "- Seller Nissan-Infinity LT dan Ford Motor Credit Company LLC menunjukkan jumlah penjualan yang sangat tinggi, seller lain seperti The Hertz Corporation dan Santander Consumer juga menunjukkan angka penjualan yang cukup tinggi, menunjukkan bahwa mereka juga berperan penting dalam pasar.\n",
    "- Preferensi konsumen : Merek atau seller yang lebih dikenal atau memiliki reputasi baik cenderung memiliki penjualan yang lebih tinggi.\n",
    "- Preferensi Seller yang lainnya : Seller dengan penjualan lebih rendah mungkin perlu mengevaluasi strategi pemasaran dan penjualan mereka untuk meningkatkan jumlah penjualan. Ini bisa meliputi promosi, peningkatan layanan pelanggan, atau penawaran produk yang lebih menarik."
   ]
  },
  {
   "cell_type": "markdown",
   "metadata": {},
   "source": [
    "### Why (Mengapa)"
   ]
  },
  {
   "cell_type": "markdown",
   "metadata": {},
   "source": [
    "Key Question 5 : Mengapa Harga Mobil Bervariasi Berdasarkan Fitur Tertentu?"
   ]
  },
  {
   "cell_type": "markdown",
   "metadata": {},
   "source": [
    "Penjelasan : kita akan membuat heatmap correlation, yaitu mencari korelasi harga mobil dengan fitur-fitur seperti tahun keluaran, odometer, dan mmr."
   ]
  },
  {
   "cell_type": "code",
   "execution_count": 181,
   "metadata": {},
   "outputs": [
    {
     "name": "stdout",
     "output_type": "stream",
     "text": [
      "              sellingprice       mmr  odometer      year\n",
      "sellingprice      1.000000  0.983604 -0.599411  0.607738\n",
      "mmr               0.983604  1.000000 -0.606665  0.619243\n",
      "odometer         -0.599411 -0.606665  1.000000 -0.772229\n",
      "year              0.607738  0.619243 -0.772229  1.000000\n"
     ]
    }
   ],
   "source": [
    "# membuat numerical colomns\n",
    "numerical_cols = ['sellingprice', 'mmr', 'odometer', 'year']\n",
    "\n",
    "# kalkulasikan dengan korelasi matrix\n",
    "correlation_matrix = df[numerical_cols].corr()\n",
    "\n",
    "# print\n",
    "print(correlation_matrix)"
   ]
  },
  {
   "cell_type": "code",
   "execution_count": 182,
   "metadata": {},
   "outputs": [
    {
     "data": {
      "image/png": "[encoded data removed]",
      "text/plain": [
       "<Figure size 800x600 with 2 Axes>"
      ]
     },
     "metadata": {},
     "output_type": "display_data"
    }
   ],
   "source": [
    "# membuat figut\n",
    "plt.figure(figsize=(8, 6))\n",
    "\n",
    "# membuat heatmap\n",
    "sns.heatmap(correlation_matrix, annot=True, fmt=\".2f\", cmap='coolwarm', cbar_kws={'label': 'Correlation Coefficient'})\n",
    "\n",
    "# Membuat judul\n",
    "plt.title('Correlation Matrix Heatmap')\n",
    "plt.xlabel('Variables')\n",
    "plt.ylabel('Variables')\n",
    "\n",
    "# tampilkan plot\n",
    "plt.show()"
   ]
  },
  {
   "cell_type": "markdown",
   "metadata": {},
   "source": [
    "\n",
    "Interpretasi : \n",
    "\n",
    "a.  interpretasi positif\n",
    "- sellingprice dan mmr: Terdapat korelasi yang sangat kuat (0.98), menunjukkan bahwa semakin tinggi nilai pasar mobil, semakin tinggi pula harga jualnya.\n",
    "- sellingprice dan year: Korelasi positif (0.64) menunjukkan bahwa mobil yang lebih baru cenderung memiliki harga jual yang lebih tinggi.\n",
    "\n",
    "b. interpretasi negatif\n",
    "- sellingprice dan odometer: Korelasi negatif (-0.61) menunjukkan bahwa semakin tinggi jarak tempuh mobil, harga jualnya cenderung lebih rendah.\n",
    "- odometer dan year: Korelasi negatif yang kuat (-0.74) menunjukkan bahwa mobil yang lebih tua cenderung memiliki jarak tempuh yang lebih tinggi.\n"
   ]
  },
  {
   "cell_type": "markdown",
   "metadata": {},
   "source": [
    "### How (Bagaimana)"
   ]
  },
  {
   "cell_type": "markdown",
   "metadata": {},
   "source": [
    "Key Question 6 : Bagaimana perbedaan rata-rata harga mobil dengan perbandingan transmisi automatic dan manual ?\n"
   ]
  },
  {
   "cell_type": "markdown",
   "metadata": {},
   "source": [
    "Penjelasan : sebagai referensi untuk konsumen perbandingan harga matic dan manual"
   ]
  },
  {
   "cell_type": "code",
   "execution_count": 183,
   "metadata": {},
   "outputs": [
    {
     "name": "stderr",
     "output_type": "stream",
     "text": [
      "C:\\Users\\User\\AppData\\Local\\Temp\\ipykernel_3020\\3029960915.py:9: FutureWarning: \n",
      "\n",
      "Passing `palette` without assigning `hue` is deprecated and will be removed in v0.14.0. Assign the `x` variable to `hue` and set `legend=False` for the same effect.\n",
      "\n",
      "  sns.barplot(x='transmission', y='sellingprice', data=average_selling_price, palette='viridis')\n"
     ]
    },
    {
     "data": {
      "image/png": "[encoded data removed]",
      "text/plain": [
       "<Figure size 800x600 with 1 Axes>"
      ]
     },
     "metadata": {},
     "output_type": "display_data"
    },
    {
     "name": "stdout",
     "output_type": "stream",
     "text": [
      "  transmission  sellingprice\n",
      "0    automatic  13263.614910\n",
      "1       manual  10553.769097\n"
     ]
    }
   ],
   "source": [
    "automatic_cars = df[df['transmission'] == 'automatic']\n",
    "manual_cars = df[df['transmission'] == 'manual']\n",
    "\n",
    "# membuat rata-rata harga penjualan\n",
    "average_selling_price = df.groupby('transmission')['sellingprice'].mean().reset_index()\n",
    "\n",
    "# membuat diagram bar\n",
    "plt.figure(figsize=(8, 6))\n",
    "sns.barplot(x='transmission', y='sellingprice', data=average_selling_price, palette='viridis')\n",
    "\n",
    "# membuat judul dan label\n",
    "plt.title('Rata-rata Harga Jual Mobil Berdasarkan Transmisi')\n",
    "plt.xlabel('Transmisi')\n",
    "plt.ylabel('Rata-rata Harga Jual (USD)')\n",
    "\n",
    "# menunjukkan chart\n",
    "plt.show()\n",
    "\n",
    "# Print average selling prices\n",
    "print(average_selling_price)"
   ]
  },
  {
   "cell_type": "markdown",
   "metadata": {},
   "source": [
    "Insight :\n",
    "- Mobil dengan transmisi otomatis memiliki rata-rata harga jual yang lebih tinggi dibandingkan dengan mobil dengan transmisi manual.\n",
    "- Sebaliknya, Mobil dengan transmisi manual memiliki rata-rata harga jual yang lebih rendah dibandingkan dengan mobil dengan transmisi otomatis.\n"
   ]
  },
  {
   "cell_type": "markdown",
   "metadata": {},
   "source": [
    "# 5. Conclusion and Recomendation"
   ]
  },
  {
   "cell_type": "markdown",
   "metadata": {},
   "source": [
    "## 5.1 Conclusion"
   ]
  },
  {
   "cell_type": "markdown",
   "metadata": {},
   "source": [
    "Dari dataset tersebut dapat dianalisa bahwa, pasar mobil dengan harga yang terjangkau masih mendominasi di pasaran. Probabilitas konsumen banyak membeli dengan harga terjangkau yaitu penggunaannya hanya untuk kebutuhan sehari-harinya saja. Salah satu alasan konsumen membeli mobil dengan harga terjangkau juga dapat dilihat dari trend harga mobil, mobil dengan umur yang lebih lama dan memiliki odometer yang cenderung panjang juga menentukan harga mobil menjadi lebih murah, tentunya harga mobil berkorelasi dengan nilai pasar yang baik. Rekomendasi pemilihan transmisi apabila ingin harga yang terjangkau, bisa mengambil transmisi manual, karena menurut data harga jual transmisi automatic lebih tinggi dibandingkan dengan transmisi manual.\n",
    "\n",
    "Kemudian brand yang menjadi andalan adalah brand \"Ford\" dan \"Chevrolet\" sebagai brand yang memiliki penjualan yang sangat tinggi dibandingkan dengan brand lainnya, serta seller yang menjadi andalan bagi konsumen salah satunya adalah \"Ford Motor Credit Company LLC\" yang menunjukkan salah satu seller terbaik berdasarkan tingkat penjualannya."
   ]
  },
  {
   "cell_type": "markdown",
   "metadata": {},
   "source": [
    "## 5.2 Recomendation"
   ]
  },
  {
   "cell_type": "markdown",
   "metadata": {},
   "source": [
    "Berdasarkan konklusi yang telah didapat, apabila saya menjadi seller dan hendak menjajakan mobil. Saya akan menawarkan kepada anda Mobil dengan brand 'Ford' yang bertransmisi 'otomatis', memiliki 'tahun' yang agak sedikit lama dan 'odometer' yang tidak terlalu jauh, agar anda bisa mendapatkan dengan harga dibawah 50.000 USD. Untuk penawaran lebih menarik, anda bisa datang ke seller 'Ford Motor Credit Company LLC'."
   ]
  },
  {
   "cell_type": "markdown",
   "metadata": {},
   "source": [
    "# 6. Export Data"
   ]
  },
  {
   "cell_type": "code",
   "execution_count": 184,
   "metadata": {},
   "outputs": [],
   "source": [
    "# export df ke file .csv\n",
    "df.to_csv('car_prices_clean.csv', index=False)"
   ]
  }
 ],
 "metadata": {
  "kernelspec": {
   "display_name": "base",
   "language": "python",
   "name": "python3"
  },
  "language_info": {
   "codemirror_mode": {
    "name": "ipython",
    "version": 3
   },
   "file_extension": ".py",
   "mimetype": "text/x-python",
   "name": "python",
   "nbconvert_exporter": "python",
   "pygments_lexer": "ipython3",
   "version": "3.12.7"
  }
 },
 "nbformat": 4,
 "nbformat_minor": 2
}
